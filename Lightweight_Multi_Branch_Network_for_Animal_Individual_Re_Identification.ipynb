{
  "nbformat": 4,
  "nbformat_minor": 0,
  "metadata": {
    "accelerator": "GPU",
    "colab": {
      "name": "Lightweight Multi-Branch Network for Animal Individual Re-Identification.ipynb",
      "provenance": [],
      "collapsed_sections": []
    },
    "kernelspec": {
      "display_name": "Python 3",
      "name": "python3"
    }
  },
  "cells": [
    {
      "cell_type": "markdown",
      "metadata": {
        "id": "fl3C3UuveB0b"
      },
      "source": [
        " # Lightweight Multi-Branch Network for Animal Individual Re-Identification"
      ]
    },
    {
      "cell_type": "markdown",
      "metadata": {
        "id": "uvFHLELI67-V"
      },
      "source": [
        "Check if you are using GPU\n",
        "\n",
        "*If not, go to Edit -> \"Notebook settings\" or Runtime -> \"Change runtime type\" and select GPU as hardware accelerator.*\n",
        "\n",
        "Note: Tesla T4 is faster than Tesla K80."
      ]
    },
    {
      "cell_type": "code",
      "metadata": {
        "id": "4q3swXbmrCD1"
      },
      "source": [
        "!nvidia-smi"
      ],
      "execution_count": null,
      "outputs": []
    },
    {
      "cell_type": "markdown",
      "metadata": {
        "id": "cn9jlusEi8p3"
      },
      "source": [
        "Download code"
      ]
    },
    {
      "cell_type": "code",
      "metadata": {
        "id": "1MLGIe-pzUe4"
      },
      "source": [
        "%%capture\n",
        "!gdown --id 11Z3PlDTlPXV_BpOHA0_8ChLh_g2O8T6H\n",
        "!unzip LightMBN.zip\n",
        "!rm LightMBN.zip"
      ],
      "execution_count": null,
      "outputs": []
    },
    {
      "cell_type": "markdown",
      "metadata": {
        "id": "4Jr9C8xNlG0i"
      },
      "source": [
        "### Train on BayWald Dataset\n",
        "Note: If label smoothing is enabled, CrossEntropy cannot fall below 2.0."
      ]
    },
    {
      "cell_type": "code",
      "metadata": {
        "id": "qFy5e8TR0Rf9"
      },
      "source": [
        "!python /content/LightMBN/main.py \\\n",
        "        --data_train      baywald \\\n",
        "        --data_test       baywald \\\n",
        "        --height          180 \\\n",
        "        --width           320 \\\n",
        "        --epochs          30 \\\n",
        "        --use_masks       \\\n",
        "        --frame_dropping  \\\n",
        "        --query_gallery_separation \\\n",
        "        --test_every      1 \\\n",
        "        --test_pretrained \\\n",
        "        --batchid         3 \\\n",
        "        --batchimage      10 \\\n",
        "        --batchtest       30 \\\n",
        "        --model           LMBN_n \\\n",
        "        --feats           512 \\\n",
        "        --loss            0.5*CrossEntropy+0.5*MSLoss \\\n",
        "        --lr              2e-4 \\\n",
        "        --if_labelsmooth  \\\n",
        "        --w_cosine_annealing \\\n",
        "        --optimizer       ADAM \\\n",
        "        --margin          0.7 \\\n",
        "        --datadir         /content \\\n",
        "        --nGPU            1 \\\n",
        "        --nThread         2 \\\n",
        "        --save            \"baywald\""
      ],
      "execution_count": null,
      "outputs": []
    },
    {
      "cell_type": "markdown",
      "metadata": {
        "id": "N4gAS6Q8lUpI"
      },
      "source": [
        "## Train on Wildpark Dataset"
      ]
    },
    {
      "cell_type": "code",
      "metadata": {
        "id": "YNLPn6JnYNf7"
      },
      "source": [
        "!python /content/LightMBN/main.py \\\n",
        "        --data_train      wildpark \\\n",
        "        --data_test       wildpark \\\n",
        "        --height          180 \\\n",
        "        --width           240 \\\n",
        "        --epochs          20 \\\n",
        "        --frame_dropping  \\\n",
        "        --query_gallery_separation \\\n",
        "        --test_every      1 \\\n",
        "        --test_pretrained \\\n",
        "        --batchid         3 \\\n",
        "        --batchimage      10 \\\n",
        "        --batchtest       30 \\\n",
        "        --model           LMBN_n \\\n",
        "        --feats           512 \\\n",
        "        --loss            0.5*CrossEntropy+0.5*MSLoss \\\n",
        "        --lr              1.5e-4 \\\n",
        "        --if_labelsmooth  \\\n",
        "        --w_cosine_annealing \\\n",
        "        --optimizer       ADAM \\\n",
        "        --margin          0.7 \\\n",
        "        --datadir         /content \\\n",
        "        --nGPU            1 \\\n",
        "        --nThread         2 \\\n",
        "        --save            \"wildpark\""
      ],
      "execution_count": null,
      "outputs": []
    },
    {
      "cell_type": "markdown",
      "metadata": {
        "id": "ipmWHbodsL9U"
      },
      "source": [
        "Visualize activation maps"
      ]
    },
    {
      "cell_type": "code",
      "metadata": {
        "id": "8uMT7K7bAM4b"
      },
      "source": [
        "dir = \"baywald\" #baywald/wildpark/market1501\n",
        "!python /content/LightMBN/utils/visualize_actmap.py \\\n",
        "        --activation_map \\\n",
        "        --config \"/content/LightMBN/experiment/$dir/config.yaml\" \\\n",
        "        --save $dir"
      ],
      "execution_count": null,
      "outputs": []
    },
    {
      "cell_type": "markdown",
      "metadata": {
        "id": "k46evCUDsQx6"
      },
      "source": [
        "Visualize rank"
      ]
    },
    {
      "cell_type": "code",
      "metadata": {
        "id": "nUfUDkjmPpKB"
      },
      "source": [
        "!python /content/LightMBN/utils/visualize_rank.py \\\n",
        "        --config \"/content/LightMBN/experiment/$dir/config.yaml\" \\\n",
        "        --save $dir"
      ],
      "execution_count": null,
      "outputs": []
    },
    {
      "cell_type": "markdown",
      "metadata": {
        "id": "XJ-uyzK0lkHF"
      },
      "source": [
        "Make a graph manually"
      ]
    },
    {
      "cell_type": "code",
      "metadata": {
        "id": "AW1ZX_MnAwXw"
      },
      "source": [
        "import matplotlib\n",
        "matplotlib.use('Agg')\n",
        "import matplotlib.pyplot as plt\n",
        "import torch\n",
        "import numpy as np\n",
        "\n",
        "log = torch.Tensor([\n",
        "    [1, 7.146321, 1.291028, 8.437350],\n",
        "    [2, 3.992681, 0.697871, 4.690553],\n",
        "    [3, 2.516816, 0.522015, 3.038830],\n",
        "    [4, 1.814123, 0.343739, 2.157861],\n",
        "    [5, 1.404565, 0.692838, 2.097403],\n",
        "    [6, 1.136525, 0.401017, 1.537541],\n",
        "    [7, 0.819759, 0.609123, 1.428882],\n",
        "    [8, 0.684335, 0.225319, 0.909653],\n",
        "    [9, 0.553456, 0.580251, 1.133707],\n",
        "    [10, 0.464284, 0.555549, 1.019833],\n",
        "    [11, 0.367480, 0.568028, 0.935508],\n",
        "    [12, 0.311656, 0.626420, 0.938076],\n",
        "    [13, 0.260951, 0.519575, 0.780527],\n",
        "    [14, 0.256252, 0.408198, 0.664450],\n",
        "    [15, 0.186960, 0.755801, 0.942761],\n",
        "    [16, 0.166804, 0.652810, 0.819614],\n",
        "    [17, 0.158289, 0.717179, 0.875469],\n",
        "    [18, 0.136102, 0.682132, 0.818234],\n",
        "    [19, 0.111095, 0.658287, 0.769382],\n",
        "    [20, 0.095065, 0.829413, 0.924478],\n",
        "    [21, 0.095022, 0.684957, 0.779979],\n",
        "    [22, 0.080752, 0.795032, 0.875784],\n",
        "    [23, 0.083969, 0.591880, 0.675849],\n",
        "    [24, 0.074384, 0.617269, 0.691654],\n",
        "    [25, 0.070003, 0.714642, 0.784645],\n",
        "    [26, 0.061606, 0.495032, 0.556638],\n",
        "    [27, 0.060110, 0.592547, 0.652656],\n",
        "    [28, 0.047353, 0.491587, 0.538940],\n",
        "    [29, 0.054237, 0.358431, 0.412668],\n",
        "    [30, 0.050482, 0.526776, 0.577258],\n",
        "])\n",
        "\n",
        "def plot_map_rank():\n",
        "    axis = np.linspace(1, 30, log.size(0))\n",
        "    label = 'Reid on baywald'\n",
        "    labels = ['CrossEntropy', 'MSLoss', 'Total']\n",
        "    fig = plt.figure()\n",
        "    plt.title(label)\n",
        "    for i in range(len(labels)):\n",
        "        plt.plot(axis, log[:, i + 1].numpy(), label=labels[i])\n",
        "    plt.legend()\n",
        "    plt.xlabel('Epochs')\n",
        "    plt.ylabel('Loss')\n",
        "    plt.grid(True)\n",
        "    plt.savefig('loss.pdf', dpi=600)\n",
        "    plt.close(fig)\n",
        "\n",
        "plot_map_rank()"
      ],
      "execution_count": 4,
      "outputs": []
    },
    {
      "cell_type": "markdown",
      "metadata": {
        "id": "_qWCuoqksaBh"
      },
      "source": [
        "Download results to local machine"
      ]
    },
    {
      "cell_type": "code",
      "metadata": {
        "id": "SDvIB-jam7wo"
      },
      "source": [
        "from google.colab import files\n",
        "\n",
        "!zip -r /content/result.zip /content/LightMBN/experiment/$dir\n",
        "files.download(\"/content/result.zip\")"
      ],
      "execution_count": null,
      "outputs": []
    },
    {
      "cell_type": "markdown",
      "metadata": {
        "id": "UvoG2I5IrIuT"
      },
      "source": [
        "## **Reproduce PREID results**"
      ]
    },
    {
      "cell_type": "markdown",
      "metadata": {
        "id": "7OqDuLTMv3UT"
      },
      "source": [
        "Train on Market1501 Dataset"
      ]
    },
    {
      "cell_type": "code",
      "metadata": {
        "id": "FElIAK4CcdQo"
      },
      "source": [
        "!python /content/LightMBN/main.py \\\n",
        "        --data_train      market1501 \\\n",
        "        --data_test       market1501 \\\n",
        "        --epochs          110 \\\n",
        "        --test_every      20 \\\n",
        "        --test_pretrained \\\n",
        "        --batchid         6 \\\n",
        "        --batchimage      8 \\\n",
        "        --batchtest       32 \\\n",
        "        --model           LMBN_n \\\n",
        "        --feats           512 \\\n",
        "        --loss            0.5*CrossEntropy+0.5*MSLoss \\\n",
        "        --lr              6e-4 \\\n",
        "        --random_erasing  \\\n",
        "        --if_labelsmooth  \\\n",
        "        --w_cosine_annealing \\\n",
        "        --optimizer       ADAM \\\n",
        "        --margin          0.7 \\\n",
        "        --datadir         /content \\\n",
        "        --nGPU            1 \\\n",
        "        --nThread         2 \\\n",
        "        --save            \"market1501\""
      ],
      "execution_count": null,
      "outputs": []
    },
    {
      "cell_type": "markdown",
      "metadata": {
        "id": "yan56DqEv6zV"
      },
      "source": [
        "Test a pretrained model on CUHK03 Dataset"
      ]
    },
    {
      "cell_type": "code",
      "metadata": {
        "id": "TflIfSgRKzzh"
      },
      "source": [
        "import gdown\n",
        "\n",
        "gdown.download(\"https://drive.google.com/uc?export=download&id=1BeXrNluAvaLsNvXyEK0WFHM6kDw3r8ND\", \"PRETRAIN.zip\", True)\n",
        "!unzip PRETRAIN.zip\n",
        "!rm PRETRAIN.zip"
      ],
      "execution_count": null,
      "outputs": []
    },
    {
      "cell_type": "code",
      "metadata": {
        "id": "l1Gq4246DUYC"
      },
      "source": [
        "!python /content/LightMBN/main.py \\\n",
        "        --test_only\n",
        "        --config      \"/content/PRETRAIN/cfg_lmbn_n_cuhk03_d.yaml\" \\\n",
        "        --pre_train   \"/content/PRETRAIN/lmbn_n_cuhk03_d.pth\""
      ],
      "execution_count": null,
      "outputs": []
    }
  ]
}